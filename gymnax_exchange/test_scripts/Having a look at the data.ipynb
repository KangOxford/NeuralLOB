{
 "cells": [
  {
   "cell_type": "code",
   "execution_count": null,
   "metadata": {
    "vscode": {
     "languageId": "plaintext"
    }
   },
   "outputs": [],
   "source": [
    "import pandas as pd\n",
    "\n",
    "file_path = '/home/duser/AlphaTrade/gymnax_exchange/test_scripts/training_oneDay/data/Book_10/AMZN_2017-01-03_24900000_57900000_orderbook_10.csv'\n",
    "\n",
    "df = pd.read_csv(file_path)\n",
    "print(f\"Data shape: {df.shape}\")\n",
    "print(f\"Column names: {df.columns.tolist()}\")\n",
    "\n",
    "starting_index = 212612\n",
    "data_at_index = df.iloc[starting_index]\n",
    "print(f\"Data at index {starting_index}:\\n{data_at_index}\")\n",
    "\n",
    "context_data = df.iloc[starting_index - 5:starting_index + 5]\n",
    "print(\"Context data around the starting index:\")\n",
    "print(context_data)\n"
   ]
  }
 ],
 "metadata": {
  "language_info": {
   "name": "python"
  }
 },
 "nbformat": 4,
 "nbformat_minor": 2
}
