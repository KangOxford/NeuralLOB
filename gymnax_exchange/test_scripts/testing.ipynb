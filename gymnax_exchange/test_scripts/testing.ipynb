{
 "cells": [
  {
   "cell_type": "markdown",
   "metadata": {},
   "source": [
    "before"
   ]
  },
  {
   "cell_type": "code",
   "execution_count": null,
   "metadata": {
    "vscode": {
     "languageId": "plaintext"
    }
   },
   "outputs": [],
   "source": [
    "        elif self.window_type == \"fixed_time\":\n",
    "            for i in range(len(indices) - 1):\n",
    "                (i_s,\n",
    "                 i_e)= message_day[\n",
    "                            (message_day['time'] >= indices[i]) &\n",
    "                            (message_day['time'] <\n",
    "                                 indices[i]+self.window_length)\n",
    "                            ].index[[0,-1]]\n",
    "                index_s.append(i_s)\n",
    "                index_e.append(i_e)"
   ]
  },
  {
   "cell_type": "markdown",
   "metadata": {},
   "source": [
    "after"
   ]
  },
  {
   "cell_type": "code",
   "execution_count": null,
   "metadata": {
    "vscode": {
     "languageId": "plaintext"
    }
   },
   "outputs": [],
   "source": [
    "elif self.window_type == \"fixed_time\":\n",
    "    for i in range(len(indices) - 1):\n",
    "        window_start = indices[i]\n",
    "        window_end = indices[i] + self.window_length\n",
    "        # Filter the messages for the current window\n",
    "        filtered = message_day[\n",
    "            (message_day['time'] >= window_start) &\n",
    "            (message_day['time'] < window_end)\n",
    "        ]\n",
    "        # Debug: print out information about the candidate window\n",
    "        print(f\"Window {i}: start time {window_start}, end time {window_end}, \"\n",
    "            f\"found {len(filtered)} rows in the message data.\")\n",
    "        if not filtered.empty:\n",
    "            # Get the first and last row indices of this window\n",
    "            (i_s, i_e) = filtered.index[[0, -1]]\n",
    "            print(f\"  Window {i} indices: first index = {i_s}, last index = {i_e}\")\n",
    "            index_s.append(i_s)\n",
    "            index_e.append(i_e)\n",
    "        else:\n",
    "            # If no data is found, print a warning and optionally skip this window\n",
    "            print(f\"  Warning: Window {i} has no data!\")\n"
   ]
  }
 ],
 "metadata": {
  "language_info": {
   "name": "python"
  }
 },
 "nbformat": 4,
 "nbformat_minor": 2
}
